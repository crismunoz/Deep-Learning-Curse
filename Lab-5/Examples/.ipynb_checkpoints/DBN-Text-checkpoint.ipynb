{
 "cells": [
  {
   "cell_type": "markdown",
   "metadata": {},
   "source": [
    "# 2. Texto com Deep Belief Networks"
   ]
  },
  {
   "cell_type": "markdown",
   "metadata": {},
   "source": [
    "### a) Dataset"
   ]
  },
  {
   "cell_type": "markdown",
   "metadata": {},
   "source": [
    "O conjunto de dados 20 Newsgroups é uma coleção de aproximadamente 20.000 documentos de grupo de notícias, particionado (quase) uniformemente em 20 groups diferentes. Para o melhor de meu conhecimento, ele foi originalmente coletado para o seu Newsweeder: Uma rede que aprender a filtrar noticias. A coleção de 20 newsgroups tornou-se um popular conjunto de dados para experiências em aplicações de texto de técnicas de aprendizagem de máquinas, como classificação de texto e agrupamento de texto."
   ]
  },
  {
   "cell_type": "markdown",
   "metadata": {},
   "source": [
    "#### Organização\n",
    "\n",
    "Os dados estão organizados em 20 diferentes newsgroups, cada um correspondente a um tópico diferente. Alguns dos newsgroups estão intimamente relacionados uns com os outros (por exemplo, comp.sys.ibm.pc.hardware / comp.sys.mac.hardware), enquanto outros são altamente não relacionados (por exemplo, misc.forsale / soc.religion.christian). Aqui está uma lista dos 20 newsgroups, particionados (mais ou menos) de acordo com o assunto:"
   ]
  },
  {
   "cell_type": "markdown",
   "metadata": {},
   "source": [
    "![alt text](img/text.png)"
   ]
  },
  {
   "cell_type": "markdown",
   "metadata": {},
   "source": [
    "#### Importamos os modulos de Python necessarios para este exemplo:"
   ]
  },
  {
   "cell_type": "code",
   "execution_count": null,
   "metadata": {
    "collapsed": false
   },
   "outputs": [],
   "source": [
    "import os\n",
    "import sys\n",
    "import timeit\n",
    "\n",
    "import numpy\n",
    "\n",
    "import theano\n",
    "import theano.tensor as T\n",
    "from theano.sandbox.rng_mrg import MRG_RandomStreams\n",
    "\n",
    "from DBN import DBN , news20group_load_data"
   ]
  },
  {
   "cell_type": "markdown",
   "metadata": {},
   "source": [
    "### a) Configurar e compilar o modelo Deep Belief Network. "
   ]
  },
  {
   "cell_type": "markdown",
   "metadata": {},
   "source": [
    "Configuração de parametros para pre-treinamento e sintonização\n",
    "\n",
    "```python\n",
    "# Parametros de pre-treinamento e treinamento\n",
    "finetune_lr=0.1\n",
    "pretraining_epochs=100#100\n",
    "pretrain_lr=0.01\n",
    "k=3\n",
    "training_epochs=1000\n",
    "dataset='20newsgroup.mat'\n",
    "batch_size=10\n",
    "\n",
    "# Abrir os dados\n",
    "datasets = news20group_load_data(dataset)\n",
    "train_set_x, train_set_y = datasets[0]\n",
    "test_set_x, test_set_y = datasets[1]\n",
    "\n",
    "# Calcular o número de minibatches para treinamento\n",
    "n_train_batches = train_set_x.get_value(borrow=True).shape[0] // batch_size\n",
    "```"
   ]
  },
  {
   "cell_type": "code",
   "execution_count": null,
   "metadata": {
    "collapsed": false
   },
   "outputs": [],
   "source": [
    "# Parametros de pre-treinamento e treinamento\n",
    "finetune_lr=0.1\n",
    "pretraining_epochs=20#100\n",
    "pretrain_lr=0.1\n",
    "k=1\n",
    "training_epochs=10\n",
    "dataset='20newsgroups_small.mat'#'20newsgroup.mat' #\n",
    "batch_size=10\n",
    "\n",
    "# Abrir os dados\n",
    "datasets = news20group_load_data(dataset)\n",
    "train_set_x, train_set_y = datasets[0]\n",
    "test_set_x, test_set_y = datasets[1]\n",
    "\n",
    "# Calcular o número de minibatches para treinamento\n",
    "n_train_batches = train_set_x.get_value(borrow=True).shape[0] // batch_size"
   ]
  },
  {
   "cell_type": "markdown",
   "metadata": {},
   "source": [
    "Visualizamos a distribuição dos dados:"
   ]
  },
  {
   "cell_type": "code",
   "execution_count": null,
   "metadata": {
    "collapsed": false
   },
   "outputs": [],
   "source": [
    "%matplotlib inline\n",
    "import matplotlib.pyplot as plt\n",
    "\n",
    "y=train_set_y.eval()\n",
    "plt.hist(y)"
   ]
  },
  {
   "cell_type": "markdown",
   "metadata": {},
   "source": [
    "Compilamos o modelo:"
   ]
  },
  {
   "cell_type": "code",
   "execution_count": null,
   "metadata": {
    "collapsed": false
   },
   "outputs": [],
   "source": [
    "# numpy random generator\n",
    "numpy_rng = numpy.random.RandomState(152)\n",
    "hidden_layers_sizes = [500,500,2000]\n",
    "\n",
    "print('... building the model')\n",
    "# construct the Deep Belief Network\n",
    "dbn = DBN(numpy_rng=numpy_rng, n_ins=5000,\n",
    "          hidden_layers_sizes = hidden_layers_sizes,\n",
    "          n_outs=20)"
   ]
  },
  {
   "cell_type": "markdown",
   "metadata": {
    "collapsed": false
   },
   "source": [
    "# Pre-train layer-wise\n",
    "\n",
    "```python\n",
    "print('... getting the pretraining functions')\n",
    "pretraining_fns = dbn.pretraining_functions(train_set_x=train_set_x,\n",
    "                                            batch_size=batch_size,\n",
    "                                            k=k)\n",
    "\n",
    "print('... pre-training the model')\n",
    "start_time = timeit.default_timer()\n",
    "\n",
    "for i in range(dbn.n_layers):\n",
    "    # go through pretraining epochs\n",
    "    for epoch in range(pretraining_epochs):\n",
    "        # go through the training set\n",
    "        c = []\n",
    "        for batch_index in range(n_train_batches):\n",
    "            c.append(pretraining_fns[i](index=batch_index,\n",
    "                                        lr=pretrain_lr))\n",
    "        print('Pre-training layer %i, epoch %d, cost ' % (i, epoch), end=' ')\n",
    "        print(numpy.mean(c, dtype='float64'))\n",
    "\n",
    "end_time = timeit.default_timer()\n",
    "print('The pretraining code, ' +  'ran for %.2fm' % ((end_time - start_time) / 60.), file=sys.stderr)\n",
    "```\n",
    "# end\n"
   ]
  },
  {
   "cell_type": "markdown",
   "metadata": {},
   "source": [
    "### c) Sintonizar o modelo"
   ]
  },
  {
   "cell_type": "code",
   "execution_count": null,
   "metadata": {
    "collapsed": false
   },
   "outputs": [],
   "source": [
    "dbn.train(datasets = datasets , \n",
    "          batch_size = batch_size, \n",
    "          finetune_lr = finetune_lr, \n",
    "          n_train_batches = n_train_batches,\n",
    "          training_epochs = training_epochs)"
   ]
  },
  {
   "cell_type": "markdown",
   "metadata": {},
   "source": [
    "### d) Extraer os features pra ser logo analizados"
   ]
  },
  {
   "cell_type": "markdown",
   "metadata": {},
   "source": [
    "Criamos um preditor, que permite retornar as saidas nas diferentes camadas no modelo."
   ]
  },
  {
   "cell_type": "code",
   "execution_count": null,
   "metadata": {
    "collapsed": true
   },
   "outputs": [],
   "source": [
    "predict = dbn.build_predict_functions(dataset_x=test_set_x, batch_size=batch_size)"
   ]
  },
  {
   "cell_type": "markdown",
   "metadata": {},
   "source": [
    "Extraemos os features para os dados de teste:"
   ]
  },
  {
   "cell_type": "code",
   "execution_count": null,
   "metadata": {
    "collapsed": false
   },
   "outputs": [],
   "source": [
    "len_data = test_set_x.eval().shape[0]\n",
    "\n",
    "num_iter = int(len_data / batch_size)\n",
    "\n",
    "features_1 = numpy.zeros((len_data, hidden_layers_sizes[0]))\n",
    "features_2 = numpy.zeros((len_data, hidden_layers_sizes[1]))\n",
    "features_3 = numpy.zeros((len_data, hidden_layers_sizes[2]))\n",
    "features_4 = numpy.zeros((len_data, 20))\n",
    "\n",
    "for i in range(num_iter):\n",
    "    f1,f2,f3,f4 = tuple(predict(i))\n",
    "    features_1[i*batch_size: (i + 1) * batch_size] = f1\n",
    "    features_2[i*batch_size: (i + 1) * batch_size] = f2\n",
    "    features_3[i*batch_size: (i + 1) * batch_size] = f3\n",
    "    features_4[i*batch_size: (i + 1) * batch_size] = f4"
   ]
  },
  {
   "cell_type": "markdown",
   "metadata": {},
   "source": [
    "Salvamos os features de uma camada especifica para analizar em Tensorboard:"
   ]
  },
  {
   "cell_type": "code",
   "execution_count": null,
   "metadata": {
    "collapsed": false
   },
   "outputs": [],
   "source": [
    "import pickle\n",
    "pickle.dump( [features_4, test_set_y.eval()], open( \"features.p\", \"wb\" ) )"
   ]
  }
 ],
 "metadata": {
  "kernelspec": {
   "display_name": "Python 3",
   "language": "python",
   "name": "python3"
  },
  "language_info": {
   "codemirror_mode": {
    "name": "ipython",
    "version": 3
   },
   "file_extension": ".py",
   "mimetype": "text/x-python",
   "name": "python",
   "nbconvert_exporter": "python",
   "pygments_lexer": "ipython3",
   "version": "3.5.2"
  }
 },
 "nbformat": 4,
 "nbformat_minor": 2
}
