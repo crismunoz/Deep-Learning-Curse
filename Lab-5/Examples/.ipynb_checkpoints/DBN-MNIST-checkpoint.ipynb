{
 "cells": [
  {
   "cell_type": "markdown",
   "metadata": {},
   "source": [
    "# 1. Imagens com Deep Belief Networks"
   ]
  },
  {
   "cell_type": "code",
   "execution_count": null,
   "metadata": {
    "collapsed": false
   },
   "outputs": [],
   "source": [
    "import os\n",
    "import sys\n",
    "import timeit\n",
    "\n",
    "import numpy\n",
    "\n",
    "import theano\n",
    "import theano.tensor as T\n",
    "from theano.sandbox.rng_mrg import MRG_RandomStreams\n",
    "from DBN import DBN , mnist_load_data"
   ]
  },
  {
   "cell_type": "markdown",
   "metadata": {},
   "source": [
    "### a) Demonstrates how to train and test a Deep Belief Network.\n",
    "\n",
    "This is demonstrated on MNIST"
   ]
  },
  {
   "cell_type": "code",
   "execution_count": null,
   "metadata": {
    "collapsed": false
   },
   "outputs": [],
   "source": [
    "finetune_lr=0.1\n",
    "pretraining_epochs=100\n",
    "pretrain_lr=0.1\n",
    "k=1\n",
    "training_epochs=200\n",
    "dataset='Mnist.mat'\n",
    "batch_size=100\n",
    "\n",
    "datasets = mnist_load_data(dataset)\n",
    "train_set_x, train_set_y = datasets[0]\n",
    "test_set_x, test_set_y = datasets[1]\n",
    "\n",
    "# compute number of minibatches for training, validation and testing\n",
    "n_train_batches = train_set_x.get_value(borrow=True).shape[0] // batch_size"
   ]
  },
  {
   "cell_type": "code",
   "execution_count": null,
   "metadata": {
    "collapsed": false
   },
   "outputs": [],
   "source": [
    "# numpy random generator\n",
    "numpy_rng = numpy.random.RandomState(130)\n",
    "print('... building the model')\n",
    "# construct the Deep Belief Network\n",
    "dbn = DBN(numpy_rng=numpy_rng, n_ins=28 * 28,\n",
    "          hidden_layers_sizes=[1000,1000,1000],\n",
    "          n_outs=10)"
   ]
  },
  {
   "cell_type": "markdown",
   "metadata": {},
   "source": [
    "### b) Pretreinamento do modelo"
   ]
  },
  {
   "cell_type": "markdown",
   "metadata": {
    "collapsed": false
   },
   "source": [
    "print('... getting the pretraining functions')\n",
    "pretraining_fns = dbn.pretraining_functions(train_set_x=train_set_x,\n",
    "                                            batch_size=batch_size,\n",
    "                                            k=k)\n",
    "\n",
    "print('... pre-training the model')\n",
    "start_time = timeit.default_timer()\n",
    "# Pre-train layer-wise\n",
    "```python\n",
    "for i in range(dbn.n_layers):\n",
    "    # go through pretraining epochs\n",
    "    for epoch in range(pretraining_epochs):\n",
    "        # go through the training set\n",
    "        c = []\n",
    "        for batch_index in range(n_train_batches):\n",
    "            c.append(pretraining_fns[i](index=batch_index,\n",
    "                                        lr=pretrain_lr))\n",
    "        print('Pre-training layer %i, epoch %d, cost ' % (i, epoch), end=' ')\n",
    "        print(numpy.mean(c, dtype='float64'))\n",
    "\n",
    "end_time = timeit.default_timer()\n",
    "\n",
    "print('The pretraining code, ' +  'ran for %.2fm' % ((end_time - start_time) / 60.), file=sys.stderr)\n",
    "```\n",
    "# end\n"
   ]
  },
  {
   "cell_type": "code",
   "execution_count": null,
   "metadata": {
    "collapsed": false
   },
   "outputs": [],
   "source": [
    "dbn.train(datasets = datasets , \n",
    "          batch_size = batch_size, \n",
    "          finetune_lr = finetune_lr, \n",
    "          n_train_batches = n_train_batches,\n",
    "          training_epochs = training_epochs)"
   ]
  }
 ],
 "metadata": {
  "kernelspec": {
   "display_name": "Python 3",
   "language": "python",
   "name": "python3"
  },
  "language_info": {
   "codemirror_mode": {
    "name": "ipython",
    "version": 3
   },
   "file_extension": ".py",
   "mimetype": "text/x-python",
   "name": "python",
   "nbconvert_exporter": "python",
   "pygments_lexer": "ipython3",
   "version": "3.5.2"
  }
 },
 "nbformat": 4,
 "nbformat_minor": 2
}
