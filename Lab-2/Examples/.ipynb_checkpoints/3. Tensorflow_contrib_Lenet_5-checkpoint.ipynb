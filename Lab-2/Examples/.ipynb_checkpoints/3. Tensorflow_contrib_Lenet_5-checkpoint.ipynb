{
 "cells": [
  {
   "cell_type": "markdown",
   "metadata": {},
   "source": [
    "# LeNet-5"
   ]
  },
  {
   "cell_type": "markdown",
   "metadata": {
    "collapsed": false
   },
   "source": [
    "# Tensorflow - tf.contrib.learn"
   ]
  },
  {
   "cell_type": "markdown",
   "metadata": {},
   "source": [
    "Neste tutorial utilizaremos o framework **tf.contrib.learn**, que permite construir de forma fácil os modelos de Deep learning utilizando o API de alto nível [Estimator](https://www.tensorflow.org/api_guides/python/contrib.learn#estimators). Estimator oferece classes que você pode instanciar para configurar rapidamente tipos de modelos de classificadores."
   ]
  },
  {
   "cell_type": "markdown",
   "metadata": {},
   "source": [
    "## Exemplo 1"
   ]
  },
  {
   "cell_type": "markdown",
   "metadata": {},
   "source": [
    "Neste exemplo vamos criar um rede Deep Learning para reconhecer digitos (Base de dados MNIST) e da um rótulo correto para cada imagem de dígito)."
   ]
  },
  {
   "cell_type": "markdown",
   "metadata": {},
   "source": [
    "### DATA MNIST"
   ]
  },
  {
   "cell_type": "markdown",
   "metadata": {},
   "source": [
    "Os dados do MNIST estão no site de [Yann LeCun](http://yann.lecun.com/exdb/mnist/). Os dados estão divididos em 3 partes:\n",
    "\n",
    "* **Treinamento**: 55,000 dados\n",
    "* **Teste**: 10,000 dados\n",
    "* **Validação**: 5,000 dados\n",
    "\n",
    "Os dados são imagens de 28x28 pixels de 1 canal, o seguinte código em python visualiza um elemento do dataset:"
   ]
  },
  {
   "cell_type": "code",
   "execution_count": null,
   "metadata": {
    "collapsed": false
   },
   "outputs": [],
   "source": [
    "%matplotlib inline \n",
    "import matplotlib.pyplot as plt\n",
    "import numpy as np\n",
    "from Lenet5_model import get_data_mnist\n",
    "\n",
    "train_data , train_labels , eval_data , eval_labels = get_data_mnist()"
   ]
  },
  {
   "cell_type": "code",
   "execution_count": null,
   "metadata": {
    "collapsed": false
   },
   "outputs": [],
   "source": [
    "img=np.reshape(train_data[15],(28,28))\n",
    "plt.imshow(img)"
   ]
  },
  {
   "cell_type": "markdown",
   "metadata": {},
   "source": [
    "## LeNet-5 "
   ]
  },
  {
   "cell_type": "markdown",
   "metadata": {},
   "source": [
    "A estrutura da rede neural convolutiva (LeNet-5) proposta por [Yann lecun,1998](http://yann.lecun.com/exdb/publis/pdf/lecun-01a.pdf) é apresentada na Figura:"
   ]
  },
  {
   "cell_type": "markdown",
   "metadata": {},
   "source": [
    "<img src=\"img/lenet5.png\">"
   ]
  },
  {
   "cell_type": "markdown",
   "metadata": {},
   "source": [
    "O arquivo [Lenet5_model.py](../../edit/Examples/Lenet5_model.py) contém o código principal do modelo, vamos configurar uma versão similar da rede LeNet-5.\n",
    "\n",
    "Se pede contruir a siguente configuração de rede DL:\n",
    "\n",
    "* conv1: Camada convolutiva com 6 *features map* e um kernel de 5x5 por cada *features map*.\n",
    "* pool1: Camada max-pooling com 6 *features map* e um kernel de 2x2 e stride de 2 por cada *features map*.\n",
    "* conv2: Camada convolutiva com 16 *features map* e um kernel de 6x6 por cada *features map*.\n",
    "* pool2: Camada max-pooling com 16 *features map* e um kernel de 2x2 e stride de 2 por cada *features map*.\n",
    "* local3: Camada flat + Camada full-connected com 128 *features map*.\n",
    "* local4: Camada full-connected com 84 *features map*.\n",
    "* softmax: Camada softmax com 10 saídas (10 classes).\n",
    "\n",
    "Com mini-batch = **100** e steps = **2000**.\n",
    "\n",
    "Analisar os seguintes casos:"
   ]
  },
  {
   "cell_type": "code",
   "execution_count": null,
   "metadata": {
    "collapsed": false
   },
   "outputs": [],
   "source": [
    "%reset"
   ]
  },
  {
   "cell_type": "code",
   "execution_count": null,
   "metadata": {
    "collapsed": false
   },
   "outputs": [],
   "source": [
    "!rm -rf train"
   ]
  },
  {
   "cell_type": "markdown",
   "metadata": {},
   "source": [
    "### Caso 1"
   ]
  },
  {
   "cell_type": "markdown",
   "metadata": {},
   "source": [
    "Utilizar o otimizador SGD ([Stochastic gradient descent](https://en.wikipedia.org/wiki/Stochastic_gradient_descent)) com taxa de aprendizagem 0.001 (optimizer='SGD')."
   ]
  },
  {
   "cell_type": "code",
   "execution_count": null,
   "metadata": {
    "collapsed": true
   },
   "outputs": [],
   "source": [
    "!cp Lenet5_model.py Lenet5_SGD_model.py"
   ]
  },
  {
   "cell_type": "markdown",
   "metadata": {},
   "source": [
    "Abrir o arquivo [Lenet5_SGD_model.py](../../edit/Lenet5_SGD_model.py) e completar o código para ter a seguinte distribuição de camadas solicitada (editar os **FIXME** no arquivo).\n",
    "\n",
    "Rodar o modelo:"
   ]
  },
  {
   "cell_type": "code",
   "execution_count": null,
   "metadata": {
    "collapsed": true
   },
   "outputs": [],
   "source": [
    "%run Lenet5_SGD_model.py"
   ]
  },
  {
   "cell_type": "markdown",
   "metadata": {},
   "source": [
    "### Caso 2:"
   ]
  },
  {
   "cell_type": "markdown",
   "metadata": {},
   "source": [
    "Copie o modelo já modificado Lenet5_SGD_model.py para Lenet5_RMS_model.py:"
   ]
  },
  {
   "cell_type": "code",
   "execution_count": null,
   "metadata": {
    "collapsed": true
   },
   "outputs": [],
   "source": [
    "!cp Lenet5_SGD_model.py Lenet5_RMS_model.py"
   ]
  },
  {
   "cell_type": "markdown",
   "metadata": {},
   "source": [
    "No arquivo [Lenet5_RMS_model.py](../../edit/Lenet5_RMS_model.py), modificar o método de otimização para RMSProp:([Root Mean Square Propagation](http://www.cs.toronto.edu/~tijmen/csc321/slides/lecture_slides_lec6.pdf)) com taxa de aprendizagem 0.001 (optimizer=tf.train.RMSPropOptimizer(learning_rate=0.001))."
   ]
  },
  {
   "cell_type": "markdown",
   "metadata": {},
   "source": [
    "**Opcional 1**: Podemos observar alguns resultados no *tensorboard* para abrir executar na consola:\n",
    "\n",
    "tensorboard --logdir=train --port 8XXX\n",
    "\n",
    "**Opcional 2**: Adicionar variaveis para o *tensorboard*"
   ]
  },
  {
   "cell_type": "markdown",
   "metadata": {},
   "source": [
    "Para saber o IP de da maquina do servidor:"
   ]
  },
  {
   "cell_type": "code",
   "execution_count": null,
   "metadata": {
    "collapsed": true
   },
   "outputs": [],
   "source": [
    "!ifconfig"
   ]
  },
  {
   "cell_type": "code",
   "execution_count": null,
   "metadata": {
    "collapsed": true
   },
   "outputs": [],
   "source": [
    "!tensorboard --logdir=train --port 8111"
   ]
  }
 ],
 "metadata": {
  "kernelspec": {
   "display_name": "Python 3",
   "language": "python",
   "name": "python3"
  },
  "language_info": {
   "codemirror_mode": {
    "name": "ipython",
    "version": 3
   },
   "file_extension": ".py",
   "mimetype": "text/x-python",
   "name": "python",
   "nbconvert_exporter": "python",
   "pygments_lexer": "ipython3",
   "version": "3.5.2"
  }
 },
 "nbformat": 4,
 "nbformat_minor": 2
}
