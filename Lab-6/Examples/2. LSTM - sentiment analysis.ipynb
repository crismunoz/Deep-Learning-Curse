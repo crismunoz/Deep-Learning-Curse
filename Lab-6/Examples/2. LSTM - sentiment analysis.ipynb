{
 "cells": [
  {
   "cell_type": "markdown",
   "metadata": {},
   "source": [
    "# LSTM - Análise de Sentimentos"
   ]
  },
  {
   "cell_type": "markdown",
   "metadata": {},
   "source": [
    "Keras tem uma camada LSTM que utilizaremos para construir e treinar uma RNN many-to-one. Nossa rede pega uma frase (a sequencia de palavras.) e entrega um valor de sentimento (positivo ou negativo). Nosso conjunto de treinamento é um dataset de 7000 frases pequenas de UMICH SI650 de uma [Competição de Classificação de Sentimentos de Kaggle](https://inclass.kaggle.com/c/si650winter11). Cada frase é rotulada 1 ou 0 para um sentimento positivo ou negativo respectivamente, que nossa rede aprendera a prever. Começamos importando os módulos necessários:"
   ]
  },
  {
   "cell_type": "code",
   "execution_count": 1,
   "metadata": {
    "collapsed": false
   },
   "outputs": [
    {
     "name": "stderr",
     "output_type": "stream",
     "text": [
      "Using Theano backend.\n",
      "WARNING (theano.sandbox.cuda): The cuda backend is deprecated and will be removed in the next release (v0.10).  Please switch to the gpuarray backend. You can get more information about how to switch at this URL:\n",
      " https://github.com/Theano/Theano/wiki/Converting-to-the-new-gpu-back-end%28gpuarray%29\n",
      "\n",
      "Using gpu device 0: Tesla C2070 (CNMeM is enabled with initial size: 95.0% of memory, cuDNN not available)\n"
     ]
    }
   ],
   "source": [
    "from keras.layers.core import Activation, Dense, Dropout, SpatialDropout1D\n",
    "from keras.layers.embeddings import Embedding\n",
    "from keras.layers.recurrent import LSTM\n",
    "from keras.models import Sequential\n",
    "from keras.preprocessing import sequence\n",
    "from sklearn.model_selection import train_test_split\n",
    "import collections\n",
    "import matplotlib.pyplot as plt\n",
    "import nltk\n",
    "import numpy as np\n",
    "import os\n",
    "from keras_tqdm import TQDMNotebookCallback"
   ]
  },
  {
   "cell_type": "markdown",
   "metadata": {},
   "source": [
    "# Pre-processing"
   ]
  },
  {
   "cell_type": "markdown",
   "metadata": {},
   "source": [
    "## 1. Create a Word Counter\n",
    "\n",
    "Antes de começar, queremos realizar um pouco de análise de exploração nos dados. Especificamente necessitamos saber quantas únicas palavras existem no corpo do dataset e quantas palavras tem cada frase."
   ]
  },
  {
   "cell_type": "code",
   "execution_count": 2,
   "metadata": {
    "collapsed": true
   },
   "outputs": [],
   "source": [
    "DL_DATA=\"/share/apps/DL_DATA/LSTM\"\n",
    "file = os.path.join(DL_DATA,'umich-sentiment-train.txt')"
   ]
  },
  {
   "cell_type": "code",
   "execution_count": 3,
   "metadata": {
    "collapsed": false
   },
   "outputs": [],
   "source": [
    "maxlen = 0\n",
    "word_freqs = collections.Counter()\n",
    "num_recs = 0\n",
    "ftrain = open(file,'rb')\n",
    "for line in ftrain:\n",
    "    label, sentence = line.strip().split(b'\\t')\n",
    "    words = nltk.word_tokenize(sentence.decode(\"ascii\",\"ignore\").lower())\n",
    "    if len(words) > maxlen:\n",
    "        maxlen = len(words)\n",
    "    for word in words:\n",
    "        word_freqs[word] += 1\n",
    "    num_recs += 1\n",
    "ftrain.close()"
   ]
  },
  {
   "cell_type": "code",
   "execution_count": 10,
   "metadata": {
    "collapsed": false
   },
   "outputs": [
    {
     "name": "stdout",
     "output_type": "stream",
     "text": [
      "maxlen : 42\n",
      "len(word_freqs) : 2313\n"
     ]
    }
   ],
   "source": [
    "print(\"maxlen :\", maxlen)\n",
    "print(\"len(word_freqs) :\", len(word_freqs))"
   ]
  },
  {
   "cell_type": "markdown",
   "metadata": {},
   "source": [
    "Utilizando o número de palavras únicas ```len(word_freqs)``` Configuramos nosso tamanho de vocabulário num número fixo e tratamos outras palavras como palavras *fora do vocabulario* e substituímos eles com pseudo-word UNK (por desconhecido). No momento de predição, isto nos permitira manipular palavras previamente não observadas. \n",
    "\n",
    "O número de palavras na frase (maxlen) nos permite configurar como uma sequencia de dimensão fixa, preenchendo com zero nas palavras não utilizadas e truncar frases com maior número de palavras. Mesmo que RNN manipula dimensão de sequencias variáveis, utilizaremos o enfoque formal. Keras recomenda utilizar batch_size = 1 (para maior informação: [https://github.com/fchollet/keras/issues/40](https://github.com/fchollet/keras/issues/40)."
   ]
  },
  {
   "cell_type": "markdown",
   "metadata": {},
   "source": [
    "## 2. Create pair of lookuptables\n",
    "\n",
    "Baseada na estimação anterior, configuramos nosso VOCABULARY_SIZE=20002. Isto é: 2000 palavras de nosso vocaulario + UNK pseudo-palavra e um PAD pseudo-palavra (utilizada para preencher as frases até um número fixo de palavras), em nosso caso 40 dado por MAX_SENTENCE_LENGTH:"
   ]
  },
  {
   "cell_type": "code",
   "execution_count": 11,
   "metadata": {
    "collapsed": true
   },
   "outputs": [],
   "source": [
    "MAX_FEATURES = #2000\n",
    "MAX_SENTENCE_LENGTH = #40"
   ]
  },
  {
   "cell_type": "code",
   "execution_count": 12,
   "metadata": {
    "collapsed": true
   },
   "outputs": [],
   "source": [
    "vocab_size = min(MAX_FEATURES, len(word_freqs)) + 2\n",
    "word2index = {x[0]: i+2 for i, x in enumerate(word_freqs.most_common(MAX_FEATURES))}\n",
    "word2index[\"PAD\"] = 0\n",
    "word2index[\"UNK\"] = 1\n",
    "index2word = {v:k for k, v in word2index.items()}"
   ]
  },
  {
   "cell_type": "markdown",
   "metadata": {},
   "source": [
    "## 3. Create input and output dataset for train and test"
   ]
  },
  {
   "cell_type": "markdown",
   "metadata": {},
   "source": [
    "Agora, vamos convertir nossas frases de entrada a uma sequencia de palavras já indexada. Prenchemos eles com MAX_SENTENCES_LENGTH palavras. Como nossa saida neste caso é binaria (sentimento negativo ou positivo), não precisamos processar a saida (os rotulos)."
   ]
  },
  {
   "cell_type": "code",
   "execution_count": 13,
   "metadata": {
    "collapsed": false
   },
   "outputs": [],
   "source": [
    "X = np.empty((num_recs,), dtype=list)\n",
    "y = np.zeros((num_recs,))\n",
    "i = 0\n",
    "ftrain = open(file,'rb')\n",
    "for line in ftrain:\n",
    "    label, sentence = line.strip().split(b'\\t')\n",
    "    words = nltk.word_tokenize(sentence.decode(\"ascii\",\"ignore\").lower())\n",
    "    seqs = []\n",
    "    for word in words:\n",
    "        if word in word2index:\n",
    "            seqs.append(word2index[word])\n",
    "        else:\n",
    "            seqs.append(word2index[\"UNK\"])\n",
    "    X[i] = seqs\n",
    "    y[i] = int(label)\n",
    "    i += 1\n",
    "ftrain.close()\n",
    "X = sequence.pad_sequences(X, maxlen=MAX_SENTENCE_LENGTH)"
   ]
  },
  {
   "cell_type": "markdown",
   "metadata": {},
   "source": [
    "Finalmente, dividimos nossos dados de treinamento e teste (80-20):"
   ]
  },
  {
   "cell_type": "code",
   "execution_count": 22,
   "metadata": {
    "collapsed": false
   },
   "outputs": [],
   "source": [
    "Xtrain, Xtest, ytrain, ytest = train_test_split(X, y, test_size=0.2, random_state=42)"
   ]
  },
  {
   "cell_type": "markdown",
   "metadata": {},
   "source": [
    "# Create RNN Model"
   ]
  },
  {
   "cell_type": "markdown",
   "metadata": {},
   "source": [
    "O seguinte diagrama apresenta a estrutura de nosso RNN:\n",
    "![](img/rnn_model.png)"
   ]
  },
  {
   "cell_type": "markdown",
   "metadata": {},
   "source": [
    "Entrada: Cada fila é uma seqüência de índices de palavras.\n",
    "A entrada de nosso dataset é um tensor de dimensão ```(None, MAX_SENTENCE_LENGTH, 1)```. Este tensor passa por uma camada *Embedding* com pesos que são inicializados com valores aleatórios pequenos. Esta camada transforma o tensor a ```(None, MAX_SENTENCE_LENGTH, EMBEDDING_SIZE)```. "
   ]
  },
  {
   "cell_type": "code",
   "execution_count": 23,
   "metadata": {
    "collapsed": false
   },
   "outputs": [],
   "source": [
    "EMBEDDING_SIZE=#128\n",
    "HIDDEN_LAYER_SIZE = #64\n",
    "BATCH_SIZE = #32\n",
    "NUM_EPOCH = #10\n",
    "\n",
    "model = Sequential()\n",
    "model.add(Embedding(vocab_size, EMBEDDING_SIZE, input_length=MAX_SENTENCE_LENGTH))\n",
    "model.add(SpatialDropout1D(0.2))\n",
    "model.add(LSTM(HIDDEN_LAYER_SIZE, dropout=0.2, recurrent_dropout=0.2))\n",
    "model.add(Dense(1))\n",
    "model.add(Activation(\"sigmoid\"))\n",
    "\n",
    "model.compile(loss=\"binary_crossentropy\", optimizer=\"adam\", metrics=[\"accuracy\"])"
   ]
  },
  {
   "cell_type": "markdown",
   "metadata": {},
   "source": [
    "Logo treinamos a rede para 10 épocas (NUM_EPOCH) e batch_size de 32 (BATCH_SIZE). Em cada época validamos o modelo utilizando os dados de teste. "
   ]
  },
  {
   "cell_type": "code",
   "execution_count": 24,
   "metadata": {
    "collapsed": false
   },
   "outputs": [
    {
     "name": "stdout",
     "output_type": "stream",
     "text": [
      "\n"
     ]
    }
   ],
   "source": [
    "history = model.fit(Xtrain, ytrain, batch_size=BATCH_SIZE, epochs=NUM_EPOCH, \n",
    "                    validation_data=(Xtest, ytest), verbose=0, callbacks=[TQDMNotebookCallback()])"
   ]
  },
  {
   "cell_type": "markdown",
   "metadata": {
    "collapsed": true
   },
   "source": [
    "Podemos visualizar os valores de a função de perda e acurácias no tempo:"
   ]
  },
  {
   "cell_type": "code",
   "execution_count": 25,
   "metadata": {
    "collapsed": false
   },
   "outputs": [
    {
     "data": {
      "image/png": "[encoded data removed]",
      "text/plain": [
       "<matplotlib.figure.Figure at 0x2b8b74709668>"
      ]
     },
     "metadata": {},
     "output_type": "display_data"
    }
   ],
   "source": [
    "plt.subplot(211)\n",
    "plt.title(\"Accuracy\")\n",
    "plt.plot(history.history[\"acc\"], color=\"g\", label=\"Train\")\n",
    "plt.plot(history.history[\"val_acc\"], color=\"b\", label=\"Validation\")\n",
    "plt.legend(loc=\"best\")\n",
    "\n",
    "plt.subplot(212)\n",
    "plt.title(\"Loss\")\n",
    "plt.plot(history.history[\"loss\"], color=\"g\", label=\"Train\")\n",
    "plt.plot(history.history[\"val_loss\"], color=\"b\", label=\"Validation\")\n",
    "plt.legend(loc=\"best\")\n",
    "\n",
    "plt.tight_layout()\n",
    "plt.show()"
   ]
  },
  {
   "cell_type": "markdown",
   "metadata": {},
   "source": [
    "Finalmente, avaliamos nosso modelo com os dados de treinamento e mostramos o score e acurácia. Também pegamos algumas frases aleatórias de nossos dados de teste e mostramos a predição, o rótulo e a frase."
   ]
  },
  {
   "cell_type": "code",
   "execution_count": 26,
   "metadata": {
    "collapsed": false
   },
   "outputs": [
    {
     "name": "stdout",
     "output_type": "stream",
     "text": [
      "Test score: 0.042, accuracy: 0.994\n",
      "0 \t 0 \t always knows what i want , not guy crazy , hates harry potter..\n",
      "0 \t 0 \t da vinci code sucked..\n",
      "1 \t 1 \t i love brokeback mountain .\n",
      "0 \t 0 \t by the way , the da vinci code sucked , just letting you know ...\n",
      "1 \t 1 \t anyway , thats why i love `` brokeback mountain .\n"
     ]
    }
   ],
   "source": [
    "score, acc = model.evaluate(Xtest, ytest, batch_size=BATCH_SIZE, verbose=0)\n",
    "print(\"Test score: %.3f, accuracy: %.3f\" % (score,acc))\n",
    "\n",
    "for i in range(5):\n",
    "    idx=np.random.randint(len(Xtest))\n",
    "    xtest = Xtest[idx].reshape(1,40)\n",
    "    ylabel = ytest[idx]\n",
    "    ypred = model.predict(xtest)[0][0]\n",
    "    sent = \" \".join([index2word[x] for x in xtest[0].tolist() if x != 0])\n",
    "    print(\"%.0f \\t %d \\t %s\" % (ypred, ylabel, sent))"
   ]
  },
  {
   "cell_type": "code",
   "execution_count": null,
   "metadata": {
    "collapsed": true
   },
   "outputs": [],
   "source": []
  }
 ],
 "metadata": {
  "kernelspec": {
   "display_name": "Python 3",
   "language": "python",
   "name": "python3"
  },
  "language_info": {
   "codemirror_mode": {
    "name": "ipython",
    "version": 3
   },
   "file_extension": ".py",
   "mimetype": "text/x-python",
   "name": "python",
   "nbconvert_exporter": "python",
   "pygments_lexer": "ipython3",
   "version": "3.5.2"
  },
  "widgets": {
   "state": {
    "18a4b814ef08419ab071c661682acff4": {
     "views": [
      {
       "cell_index": 22
      }
     ]
    },
    "3827f7259d29482d9bf04bf1d5636518": {
     "views": [
      {
       "cell_index": 22
      }
     ]
    },
    "534991e0777a44c58407679644c1e3ee": {
     "views": [
      {
       "cell_index": 22
      }
     ]
    },
    "56e4dd42c76b4d7387223f859fcbb366": {
     "views": [
      {
       "cell_index": 22
      }
     ]
    },
    "62fcd9dddc3c4127bdd47895314a2699": {
     "views": [
      {
       "cell_index": 22
      }
     ]
    },
    "6b5034868dc1488d81d9c3e6b47ebac2": {
     "views": [
      {
       "cell_index": 22
      }
     ]
    },
    "8c1dfc1856a14e058caf2ea923de6ab1": {
     "views": [
      {
       "cell_index": 22
      }
     ]
    },
    "a3314c9a87fd46a4b3e089f157e99148": {
     "views": [
      {
       "cell_index": 22
      }
     ]
    },
    "a98bb4cfbb4e462e849555fc4b2a9ca2": {
     "views": [
      {
       "cell_index": 22
      }
     ]
    },
    "bb5fbed1eef44ea6bdc4958df01e4236": {
     "views": [
      {
       "cell_index": 22
      }
     ]
    },
    "fa933e4f810d4474b784b80c27e591a0": {
     "views": [
      {
       "cell_index": 22
      }
     ]
    }
   },
   "version": "1.2.0"
  }
 },
 "nbformat": 4,
 "nbformat_minor": 2
}
