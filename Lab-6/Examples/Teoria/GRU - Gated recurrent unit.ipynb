{
 "cells": [
  {
   "cell_type": "markdown",
   "metadata": {},
   "source": [
    "# Gated Recurrent Unit - GRU"
   ]
  },
  {
   "cell_type": "markdown",
   "metadata": {},
   "source": [
    "GRU é uma variante de LSTM e foi introduzida por K. Cho (Para maior detalhe ler referencia:  [Learning Phrase Representations using RNN Encoder-Decoder for Statistical Machine Translation](https://arxiv.org/pdf/1406.1078.pdf), K. Cho, 2014). Ele consegue manter a resistência do LSTM ao problema do desaparecimento do gradiente, mas seu estrutura interna é simples, pelo qual é mais rápido para treinar, pois poucos cálculos são necessários para atualizar os estados ocultos. As portas para a célula GRU são ilustradas no seguinte diagrama:\n",
    "![](img/GRU.png)"
   ]
  },
  {
   "cell_type": "markdown",
   "metadata": {},
   "source": [
    "Em vez de utilizar as portas de entrada, esquecimento e saída do LSTM: A célula GRU tem duas portas. Uma porta de atualização *z* e uma porta de reset *r*. A porta de atualização define quanta memória prévia deve manter e porta de reset define como combinar a nova entrada com a memória prévia. Não tem célula de estado persistente do estado oculto *h* como no LSTM. As seguintes equações definem o mecanismo de portas em um GRU:\n",
    "\n",
    "\\begin{eqnarray}\n",
    "z &=& \\sigma(W_{z}h_{t-1} + U_{z}x_{t}) \\\\\n",
    "r &=& \\sigma(W_{r}h_{t-1} + U_{r}x_{t}) \\\\\n",
    "c &=& tanh(W_{c}(h_{t-1}\\otimes r) + U_{c}x_{t}) \\\\\n",
    "h_{t} &=& (z \\otimes c) \\oplus ((1 - z) \\otimes h_{t-1}) \n",
    "\\end{eqnarray}\n",
    "\n",
    "De acordo com várias avaliações empíricas (Para maior informação ler: [An Exploration of Recurrent Network Architectures](http://proceedings.mlr.press/v37/jozefowicz15.pdf), R. Jozefowicz, W. Zaremba. e I. Sutskever, JMLR, 2015 e [Empirical Evaluation of Gated Recurrent Neural Networks](https://arxiv.org/pdf/1412.3555.pdf), Chung), GRU e LSTM tem desempenho comparáveis e não tem uma forma fácil de recomendar algum para alguma tarefa específica. Embora, GRU é mais rápido para treinar e precisa menor dados para generalizar, em situações onde se tem muitos dados, a LSTM apresento melhor potencial com melhores resultados."
   ]
  }
 ],
 "metadata": {
  "kernelspec": {
   "display_name": "Python 3",
   "language": "python",
   "name": "python3"
  },
  "language_info": {
   "codemirror_mode": {
    "name": "ipython",
    "version": 3
   },
   "file_extension": ".py",
   "mimetype": "text/x-python",
   "name": "python",
   "nbconvert_exporter": "python",
   "pygments_lexer": "ipython3",
   "version": "3.5.2"
  }
 },
 "nbformat": 4,
 "nbformat_minor": 2
}
