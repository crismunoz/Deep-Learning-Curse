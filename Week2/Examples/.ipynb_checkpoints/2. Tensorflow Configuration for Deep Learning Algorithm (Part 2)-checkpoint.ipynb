{
 "cells": [
  {
   "cell_type": "markdown",
   "metadata": {},
   "source": [
    "# Tutorial Tensorflow - Criando uma rede Deep Learning"
   ]
  },
  {
   "cell_type": "markdown",
   "metadata": {},
   "source": [
    "Modelar uma estrutura Deep Learning utilizando os componentes (tipos de tensores) apresentados no ** tutorial de introdução** pode ser extenso, mas ajuda a enteder o fluxo completo de como funciona o **Tensorflow**. Neste exemplo é apresentado uma rede Deep Learning convolutiva que vai treinar a base de dados MNIST. Na continuação veremos um dado (imagem) do dataset MNIST:"
   ]
  },
  {
   "cell_type": "code",
   "execution_count": 1,
   "metadata": {
    "collapsed": false
   },
   "outputs": [
    {
     "name": "stdout",
     "output_type": "stream",
     "text": [
      "Extracting data/mnist/train-images-idx3-ubyte.gz\n",
      "Extracting data/mnist/train-labels-idx1-ubyte.gz\n",
      "Extracting data/mnist/t10k-images-idx3-ubyte.gz\n",
      "Extracting data/mnist/t10k-labels-idx1-ubyte.gz\n"
     ]
    }
   ],
   "source": [
    "from tensorflow.examples.tutorials.mnist import input_data\n",
    "data = input_data.read_data_sets(\"data/mnist\")"
   ]
  },
  {
   "cell_type": "code",
   "execution_count": 2,
   "metadata": {
    "collapsed": false
   },
   "outputs": [
    {
     "data": {
      "text/plain": [
       "<matplotlib.image.AxesImage at 0x7f1ad270a2e8>"
      ]
     },
     "execution_count": 2,
     "metadata": {},
     "output_type": "execute_result"
    },
    {
     "data": {
      "image/png": "[encoded data removed]",
      "text/plain": [
       "<matplotlib.figure.Figure at 0x7f1ad2a3cda0>"
      ]
     },
     "metadata": {},
     "output_type": "display_data"
    }
   ],
   "source": [
    "%matplotlib inline \n",
    "import matplotlib.pyplot as plt\n",
    "import numpy as np\n",
    "\n",
    "index = 1000\n",
    "img = data.train.images[index]\n",
    "img = np.reshape(img,(28,28))\n",
    "plt.imshow(img)"
   ]
  },
  {
   "cell_type": "markdown",
   "metadata": {},
   "source": [
    "O arquivo [Convolutiva.py](../../edit/Convolutiva.py) contém o modelo da rede convolutiva , no [arquivo](../../edit/Convolutiva.py) podemos identificar os diferentes tipos de camadas apresentados na aula de teoria. (**conv, relu, pooling, dropout, softmax**). O comando **%run** permite o script de python inline, o que permite ficar com todas as instâncias em memoria e e utilizar a rede depois do treinamento."
   ]
  },
  {
   "cell_type": "code",
   "execution_count": 3,
   "metadata": {
    "collapsed": false,
    "scrolled": true
   },
   "outputs": [
    {
     "name": "stdout",
     "output_type": "stream",
     "text": [
      "Extracting data/MNIST/train-images-idx3-ubyte.gz\n",
      "Extracting data/MNIST/train-labels-idx1-ubyte.gz\n",
      "Extracting data/MNIST/t10k-images-idx3-ubyte.gz\n",
      "Extracting data/MNIST/t10k-labels-idx1-ubyte.gz\n",
      "Iter 1280, Minibatch Loss= 3356.629150, Training Accuracy= 0.125000\n",
      "Iter 2560, Minibatch Loss= 2366.393799, Training Accuracy= 0.132812\n",
      "Iter 3840, Minibatch Loss= 1527.918457, Training Accuracy= 0.195312\n",
      "Iter 5120, Minibatch Loss= 1168.404419, Training Accuracy= 0.265625\n",
      "Iter 6400, Minibatch Loss= 1070.042603, Training Accuracy= 0.281250\n",
      "Iter 7680, Minibatch Loss= 720.387268, Training Accuracy= 0.351562\n",
      "Iter 8960, Minibatch Loss= 1099.980103, Training Accuracy= 0.257812\n",
      "Iter 10240, Minibatch Loss= 657.160828, Training Accuracy= 0.421875\n",
      "Iter 11520, Minibatch Loss= 794.752747, Training Accuracy= 0.335938\n",
      "Iter 12800, Minibatch Loss= 566.028687, Training Accuracy= 0.460938\n",
      "Iter 14080, Minibatch Loss= 408.364899, Training Accuracy= 0.468750\n",
      "Iter 15360, Minibatch Loss= 408.315063, Training Accuracy= 0.476562\n",
      "Iter 16640, Minibatch Loss= 336.771606, Training Accuracy= 0.617188\n",
      "Iter 17920, Minibatch Loss= 373.086731, Training Accuracy= 0.562500\n",
      "Iter 19200, Minibatch Loss= 390.740540, Training Accuracy= 0.546875\n",
      "Iter 20480, Minibatch Loss= 420.362793, Training Accuracy= 0.507812\n",
      "Iter 21760, Minibatch Loss= 236.996094, Training Accuracy= 0.640625\n",
      "Iter 23040, Minibatch Loss= 333.560730, Training Accuracy= 0.531250\n",
      "Iter 24320, Minibatch Loss= 400.836639, Training Accuracy= 0.554688\n",
      "Iter 25600, Minibatch Loss= 290.229736, Training Accuracy= 0.601562\n",
      "Iter 26880, Minibatch Loss= 267.010010, Training Accuracy= 0.617188\n",
      "Iter 28160, Minibatch Loss= 250.067749, Training Accuracy= 0.617188\n",
      "Iter 29440, Minibatch Loss= 279.670837, Training Accuracy= 0.531250\n",
      "Iter 30720, Minibatch Loss= 186.496567, Training Accuracy= 0.742188\n",
      "Iter 32000, Minibatch Loss= 162.993683, Training Accuracy= 0.695312\n",
      "Iter 33280, Minibatch Loss= 236.844437, Training Accuracy= 0.601562\n",
      "Iter 34560, Minibatch Loss= 190.296646, Training Accuracy= 0.640625\n",
      "Iter 35840, Minibatch Loss= 213.411926, Training Accuracy= 0.609375\n",
      "Iter 37120, Minibatch Loss= 228.397781, Training Accuracy= 0.625000\n",
      "Iter 38400, Minibatch Loss= 124.206406, Training Accuracy= 0.695312\n",
      "Iter 39680, Minibatch Loss= 126.980080, Training Accuracy= 0.742188\n",
      "Otimização Finalizada!\n"
     ]
    }
   ],
   "source": [
    "%run Convolutiva.py"
   ]
  },
  {
   "cell_type": "markdown",
   "metadata": {},
   "source": [
    "Vemos a acuracia do modelo com os dados de teste, o método **print_accuracy()** está definido dentro do arquivo [Convolutiva.py](../../edit/Convolutiva.py)."
   ]
  },
  {
   "cell_type": "code",
   "execution_count": 4,
   "metadata": {
    "collapsed": false
   },
   "outputs": [
    {
     "name": "stdout",
     "output_type": "stream",
     "text": [
      "Acuracia: 74.2%\n"
     ]
    }
   ],
   "source": [
    "print_accuracy()"
   ]
  },
  {
   "cell_type": "markdown",
   "metadata": {},
   "source": [
    "Após ter treinado o modelo, normalmente vamos querer utilizar a rede para realizar nossas previsões, para isso vamos a definir nosso tensor de previsão:"
   ]
  },
  {
   "cell_type": "code",
   "execution_count": 5,
   "metadata": {
    "collapsed": false
   },
   "outputs": [
    {
     "data": {
      "image/png": "[encoded data removed]",
      "text/plain": [
       "<matplotlib.figure.Figure at 0x7f1b242b10f0>"
      ]
     },
     "metadata": {},
     "output_type": "display_data"
    }
   ],
   "source": [
    "show_example_errors()"
   ]
  },
  {
   "cell_type": "code",
   "execution_count": 6,
   "metadata": {
    "collapsed": false
   },
   "outputs": [
    {
     "name": "stdout",
     "output_type": "stream",
     "text": [
      "[[ 796    1   28   30   28   26   27    9   32    3]\n",
      " [   2 1033    1    7    9   19    8    2   46    8]\n",
      " [  22   26  726   74   18    8   42   35   60   21]\n",
      " [  11   17   77  647    5  151    4   34   57    7]\n",
      " [  13   21   11   10  630   38   33   35   33  158]\n",
      " [  40   21   29  133   23  511   35   15   76    9]\n",
      " [  34   29   23    8   34   23  774    5   15   13]\n",
      " [  17   18   39   44   77   11    1  745   27   49]\n",
      " [  38   22   33  119   34   50   89   23  518   48]\n",
      " [  24   25    2   44  207   46   18   66   48  529]]\n"
     ]
    },
    {
     "data": {
      "image/png": "[encoded data removed]",
      "text/plain": [
       "<matplotlib.figure.Figure at 0x7f1ad04f83c8>"
      ]
     },
     "metadata": {},
     "output_type": "display_data"
    }
   ],
   "source": [
    "show_confusion_matrix()"
   ]
  },
  {
   "cell_type": "markdown",
   "metadata": {},
   "source": [
    "Programando em python vamos a escolher uma imagem e passar pela rede para analizar "
   ]
  },
  {
   "cell_type": "code",
   "execution_count": 7,
   "metadata": {
    "collapsed": false
   },
   "outputs": [
    {
     "name": "stdout",
     "output_type": "stream",
     "text": [
      "[7]\n"
     ]
    },
    {
     "data": {
      "image/png": "[encoded data removed]",
      "text/plain": [
       "<matplotlib.figure.Figure at 0x7f1ad03b9ba8>"
      ]
     },
     "metadata": {},
     "output_type": "display_data"
    }
   ],
   "source": [
    "n=100\n",
    "img_input = data.train.images[n:(n+1)]\n",
    "img=np.reshape(img_input, (28,28))\n",
    "\n",
    "plt.imshow(img)\n",
    "print(session.run(classe, feed_dict={x: img_input , keep_prob: 1}))"
   ]
  },
  {
   "cell_type": "markdown",
   "metadata": {},
   "source": [
    "## Visualização com Tensorboard"
   ]
  },
  {
   "cell_type": "markdown",
   "metadata": {},
   "source": [
    "Tensorboard oferece um framework para visualizar de uma forma mais interativa o nosso modelo e os resultados obtidos. Mas precisamos realizar alterações em nosso código de forma que tensorflow entenda como queremos observar nossos resultados. Foram realizadas algumas alterações no arquivo **Convolutiva.py** e salvados no arquivo [Convolutiva_tensorboard.py](../../edit/Convolutiva.py)."
   ]
  },
  {
   "cell_type": "code",
   "execution_count": 8,
   "metadata": {
    "collapsed": false
   },
   "outputs": [
    {
     "name": "stdout",
     "output_type": "stream",
     "text": [
      "Once deleted, variables cannot be recovered. Proceed (y/[n])? y\n"
     ]
    }
   ],
   "source": [
    "%reset"
   ]
  },
  {
   "cell_type": "code",
   "execution_count": 9,
   "metadata": {
    "collapsed": false,
    "scrolled": true
   },
   "outputs": [
    {
     "name": "stdout",
     "output_type": "stream",
     "text": [
      "Extracting data/MNIST/train-images-idx3-ubyte.gz\n",
      "Extracting data/MNIST/train-labels-idx1-ubyte.gz\n",
      "Extracting data/MNIST/t10k-images-idx3-ubyte.gz\n",
      "Extracting data/MNIST/t10k-labels-idx1-ubyte.gz\n",
      "Adding run metadata for 9\n",
      "Iter 1280, Minibatch Loss= 4719.048828, Training Accuracy= 0.132812\n",
      "Adding run metadata for 19\n",
      "Iter 2560, Minibatch Loss= 2949.582764, Training Accuracy= 0.304688\n",
      "Adding run metadata for 29\n",
      "Iter 3840, Minibatch Loss= 2404.376221, Training Accuracy= 0.453125\n",
      "Adding run metadata for 39\n",
      "Iter 5120, Minibatch Loss= 1561.008667, Training Accuracy= 0.539062\n",
      "Adding run metadata for 49\n",
      "Iter 6400, Minibatch Loss= 1013.751709, Training Accuracy= 0.640625\n",
      "Adding run metadata for 59\n",
      "Iter 7680, Minibatch Loss= 1046.379517, Training Accuracy= 0.703125\n",
      "Adding run metadata for 69\n",
      "Iter 8960, Minibatch Loss= 1083.551392, Training Accuracy= 0.648438\n",
      "Otimização Finalizada!\n"
     ]
    }
   ],
   "source": [
    "%run Convolutiva_tensorboard.py"
   ]
  },
  {
   "cell_type": "markdown",
   "metadata": {
    "collapsed": true
   },
   "source": [
    "Para abrir tensorboard: abrir um cmd.exe entrar na pasta de trabalho"
   ]
  },
  {
   "cell_type": "raw",
   "metadata": {},
   "source": [
    "activate tensorflow\n",
    "tensorboard --logdir=r'/put/your/logpath/here'"
   ]
  },
  {
   "cell_type": "markdown",
   "metadata": {},
   "source": [
    "Por default tensorboard abre com a porta 6006, que pode se escrever no browser: **localhost:6006**"
   ]
  },
  {
   "cell_type": "markdown",
   "metadata": {},
   "source": [
    "Analise os resultados."
   ]
  }
 ],
 "metadata": {
  "kernelspec": {
   "display_name": "Python 3",
   "language": "python",
   "name": "python3"
  },
  "language_info": {
   "codemirror_mode": {
    "name": "ipython",
    "version": 3
   },
   "file_extension": ".py",
   "mimetype": "text/x-python",
   "name": "python",
   "nbconvert_exporter": "python",
   "pygments_lexer": "ipython3",
   "version": "3.5.2"
  }
 },
 "nbformat": 4,
 "nbformat_minor": 2
}
